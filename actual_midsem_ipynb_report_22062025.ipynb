{
 "cells": [
  {
   "cell_type": "markdown",
   "id": "69465cd5",
   "metadata": {},
   "source": [
    "I. Introduction\n",
    "\n",
    "1. Introduction to the domain-specific area (200-500 words)\n",
    "2. Objectives of the project (200-500 words)\n",
    "3. Description of the selected dataset (200-500 words)\n",
    "4. Evaluation methodology (200-500 words)\n",
    "\n",
    "II. Implementation\n",
    "\n",
    "5. Data Preprocessing\n",
    "6. TF-IDF\n",
    "7. Word2Vec\n",
    "8. Bag-of-Words\n",
    "9. Displaying the results\n",
    "\n",
    "III. Conclusions\n",
    "\n",
    "9. Performance Analysis & Comparative Discussion (200-500 words)\n",
    "10. Project Summary and Reflections (200 to 400 words)"
   ]
  },
  {
   "cell_type": "markdown",
   "id": "e937ed7d",
   "metadata": {},
   "source": [
    "---\n",
    "\n",
    "# INTRODUCTION\n",
    "\n",
    "---"
   ]
  },
  {
   "cell_type": "markdown",
   "id": "69d8f4f0",
   "metadata": {},
   "source": [
    "---\n",
    "1. INTRODUCTION TO THE DOMAIN-SPECIFIC AREA (394 words)\n",
    "\n",
    "The video game industry represents a significant and highly competitive commercial sector, with a global market value exceeding hundreds of billions of dollars. A crucial factor in a game's commercial success and longevity is its ability to meet player expectations, which are primarily communicated through user feedback. Digital distribution platforms like Steam can be a repository of feedbacks in the form of millions of user-generated reviews. The sheer volume of this data make manual analysis infeasible, creating a significant big data challenge for developers seeking to understand player sentiment, identify issues, and inform future design decisions. Therefore, the automated analysis of this user-generated text is a critical problem domain for applied Natural Language Processing (NLP).\n",
    "\n",
    "This domain presents unique linguistic challenges that differentiate it from the analysis of more formal texts like news articles or books. Game reviews, especially from casual users with frequently takes part in Internet's culture, are a form of discourse characterised by a rich and domain-specific lexicon (Zagal et al., 2009). This includes community-specific slang (e.g., 'nerf', 'buff', 'grind'), acronyms, and in-jokes that are often absent from standard linguistic corpora. Furthermore, the language is frequently informal and emotionally charged, making heavy use of sarcasm, hyperbole, and negation, which can easily mislead sentiment analysis models that rely on simple keyword matching. For example, a review stating \"This game ruined my life. 10/10\" uses negative vocabulary to express a highly positive sentiment, a nuance that poses a considerable challenge for automated systems.\n",
    "\n",
    "Moreover, the sentiment expressed in game reviews is often deeply contextual. As Zagal et al. (2009) note, reviews are not merely \"shopping guides\" but complex texts that often include design suggestions, historical comparisons to other games, and advice on how players should approach the game to maximize their enjoyment. This implies that player expectations are heavily influenced by factors like game genre and existing community norms. For instance, an attribute like 'complexity' may be praised in a strategy game but criticized in a casual title like a visual-novel story game. A successful analysis must be able to interpret language within these unstated contexts.\n",
    "\n",
    "Therefore, the massive data scale, a evolving vocabulary, and complex, context-dependent sentiment makes the automated analysis of video game reviews can be a challenging yet commercially valuable application of NLP. This project will compare distinct NLP methodologies (Bag-of-Words, TF-IDF, and Word2Vec) to tackle this classification problem.\n",
    "\n",
    "Reference:\n",
    "\n",
    "Zagal, J.P., Ladd, A. and Johnson, T. (2009). Characterizing and understanding game reviews. Proceedings of the 4th International Conference on Foundations of Digital Games - FDG ’09. doi:https://doi.org/10.1145/1536513.1536553.\n",
    "\n",
    "---"
   ]
  },
  {
   "cell_type": "markdown",
   "id": "d717855b",
   "metadata": {},
   "source": [
    "---\n",
    "2. OBJECTIVE OF THE PROJECT (317 words)\n",
    "\n",
    "The primary objective of this project is to conduct a comparison analysis of the traditional statistical language models and a modern embedding-based model for sentiment classification on user video game reviews. This will be done by implementing and evaluating three distinct models with a Bag-of-Words (BoW) baseline, a more sophisticated TF-IDF statistical model, and a prediction-based Word2Vec embedding model.\n",
    "\n",
    "The aim of this project is to understand the practical effectiveness and applicability of these different text representations. The core section of this project will compare the performance of count-based vector representations (BoW, TF-IDF) against dense semantic vector representations (Word2Vec). This is motivated by existing research, mainly the work of Zhou et al. (2020), which investigated the efficacy of both TF-IDF and Word2Vec for feature extraction. Their study found that while TF-IDF is effective at extracting key behaviors (analogous to keywords), Word2Vec excels at capturing features from sequenced, contextual behaviors. This project seeks to determine if these findings hold true for game reviews, specifically made by gamers to indulge in internet culture, by evaluating how well each model handles informal language, sarcasm, and slang where context is important.\n",
    "\n",
    "The findings of this project are to hopefully make a practical contribution to the domain of game review analysis, or at least, similar type of sentimental analysis as a personal hobby. As noted by Zagal et al. (2009), game reviews are a rich and varied form of discourse. By providing a clear performance benchmark between these NLP models, the results can offer guidance to developers or researchers on selecting an appropriate methodology for processing large-scale user feedback. The analysis will highlight specific scenarios where embedding-based models may offer an advantage over traditional statistical methods, mainly in capturing the semantic meaning behind the text rather than keyword frequencies. Ultimately, this project will be the practical case study on the trade-offs between interpretability, computational efficiency, and semantic understanding in modern text classification.\n",
    "\n",
    "Reference:\n",
    "\n",
    "Zhou, J., Ye, Z., Zhang, S., Geng, Z., Han, N. and Yang, T. (2024). Investigating response behavior through TF-IDF and Word2vec text analysis: A case study of PISA 2012 problem-solving process data. Heliyon, 10(16), p.e35945. doi:https://doi.org/10.1016/j.heliyon.2024.e35945.\n",
    "\n",
    "Zagal, J.P., Ladd, A. and Johnson, T. (2009). Characterizing and understanding game reviews. Proceedings of the 4th International Conference on Foundations of Digital Games - FDG ’09. doi:https://doi.org/10.1145/1536513.1536553.\n",
    "‌\n",
    "\n",
    "---"
   ]
  },
  {
   "cell_type": "markdown",
   "id": "8345493c",
   "metadata": {},
   "source": [
    "---\n",
    "DESCRIPTION OF THE SELECTED DATASET (316 words)\n",
    "\n",
    "The dataset selected for this project is the \"Steam Review Dataset (2017),\" a publicly available resource for academic and non-commercial use, published by Antoni Sobkowicz on the Zenodo research data repository. With Steam being generally considered the most popular overall online game store, it is a massive library of games, a large user base, and innovative features that make it a dominant force in the PC gaming market. The reviews on Steam contain a large volume of informal, user-generated text with significant linguistic diversity and sentiment. Therefore, this dataset will be suitable as the representative of the challenges outlined earlier.\n",
    "\n",
    "The dataset contains over 6.4 million game reviews, all in English, acquired from the public Steam store, a digital distribution platform operated by Valve Corporation. The data is provided as a single compressed Comma-Separated Values (CSV) file. Each record in the dataset corresponds to a single user review and is structured with the following data types and fields:\n",
    "\n",
    "- app_id, an integer representing the unique identifier for the game being reviewed.\n",
    "\n",
    "- app_name, a string containing the title of the game.\n",
    "\n",
    "- review_text, a string containing the full text of the user's review. This field is the primary input feature for the text classification models.\n",
    "\n",
    "- review_score, a binary integer (1 or -1) representing the sentiment of the review, where 1 signifies a positive recommendation (\"Recommended\") and -1 signifies a negative one (\"Not Recommended\"). This serves as the target variable for the classification task.\n",
    "\n",
    "- review_votes, an integer indicating the number of other users who found the review helpful.\n",
    "\n",
    "The initial data exploration revealed a significant class imbalance in the review_score field, with positive reviews (82.3%) outnumbering negative reviews (17.7%). Furthermore, the review_text field shows a wide distribution of lengths, from single-word entries to multi-paragraph complaints, and contains considerable noise including internet slang, sarcasm, and non-standard formatting. Thus, making this dataset an ideal candidate for comparing the different NLP modeling techniques.\n",
    "\n",
    "Reference:\n",
    "\n",
    "Antoni Sobkowicz. (2017). Steam Review Dataset (2017) [Data set]. Zenodo. https://doi.org/10.5281/zenodo.1000885\n",
    "\n",
    "---"
   ]
  },
  {
   "cell_type": "markdown",
   "id": "b15992ab",
   "metadata": {},
   "source": [
    "---\n",
    "EVALUATION METHODOLOGY (485 words)\n",
    "\n",
    "The performance of the three text classification models (Bag-of-Words, TF-IDF, and Word2Vec) will be assessed using a combination of standard quantitative metrics and a qualitative error analysis. \n",
    "\n",
    "A standard 80/20 train-test split will be used to partition the data. Considering the large scale of the dataset (6.4 million entries), all metrics will be calculated on the held-out test set, since there is no lack of data and there is a need for computationally efficiency (Training the W2V model with 6.4 million entries requires around 40 minutes for the 80/20 data split). The following metrics will be the primary measures of performance:\n",
    "\n",
    "- Accuracy, the proportion of all predictions that the model got correct. While acting as the baseline, it can be a misleading metric for this project due to the class imbalance (82.3% positive vs. 17.7% negative). A model that naively predicts \"positive\" for every review would achieve over 82% accuracy without any real learning. Therefore, Random OverSampling is applied to tackle this issue.\n",
    "\n",
    "- Precision, for each class (Positive/Negative), this measures the proportion of its predictions that were actually correct. High precision for the negative class is important to ensure the model's negative predictions are trustworthy.\n",
    "\n",
    "- Recall (Sensitivity), for each class, this measures the proportion of all actual instances that the model correctly identified. High recall for the negative class is critical, as it indicates the model's ability to identify the rare but important negative reviews.\n",
    "\n",
    "- F1-Score, the harmonic mean of precision and recall. It provides a balanced score that is useful for imbalanced datasets, as it penalises models that favor high precision at the expense of recall, and vice versa. The F1-score for the minority (Negative) class will be a key indicator for the model's practical effectiveness.\n",
    "\n",
    "The models' overall accuracy will be compared, but greater emphasis will be placed on the F1-scores for both the majority and minority classes. The primary goal is to determine which representation method (BoW, TF-IDF, or Word2Vec) yields a model that not only performs well overall but is also most effective at correctly identifying the crucial, under-represented negative reviews.\n",
    "\n",
    "In addition to the quantitative metrics, a qualitative error analysis will be performed. A curated set of 22 reviews containing challenging linguistic features such as sarcasm, complex negation, internet slang, and implicit sentiment will be manually selected. To ensure an unbiased evaluation, these specific reviews will be held out from the main dataset before the train-test split is performed, guaranteeing that the models have not been exposed to them during the training phase. Each of the three trained models will be used to predict the sentiment of these specific reviews. The results will be presented in a comparison table, allowing for a case-by-case analysis of why certain models succeed or fail. This will provide evidence to explain the performance differences observed in the quantitative metrics and offer deeper insight into the practical strengths and limitations of each text representation technique.\n",
    "\n",
    "---"
   ]
  },
  {
   "cell_type": "markdown",
   "id": "aaf56859",
   "metadata": {},
   "source": [
    "---\n",
    "\n",
    "# IMPLEMENTATION\n",
    "\n",
    "---"
   ]
  },
  {
   "cell_type": "markdown",
   "id": "dad479fc",
   "metadata": {},
   "source": [
    "---\n",
    "\n",
    "5. DATA PREPROCESSING"
   ]
  },
  {
   "cell_type": "code",
   "execution_count": 2,
   "id": "e97da01f",
   "metadata": {},
   "outputs": [],
   "source": [
    "import pandas as pd\n",
    "import matplotlib.pyplot as plt\n",
    "import seaborn as sns\n",
    "%matplotlib inline\n",
    "import re\n",
    "import string\n",
    "import numpy as np\n",
    "\n",
    "from nltk.tokenize import word_tokenize\n",
    "from nltk.corpus import stopwords\n",
    "from nltk.stem import WordNetLemmatizer\n",
    "\n",
    "from sklearn.model_selection import train_test_split\n",
    "\n",
    "from sklearn.feature_extraction.text import TfidfVectorizer\n",
    "\n",
    "from imblearn.over_sampling import RandomOverSampler\n",
    "\n",
    "# for TF IDF\n",
    "from sklearn.naive_bayes import MultinomialNB\n",
    "from sklearn.metrics import classification_report, confusion_matrix, accuracy_score\n",
    "\n",
    "#for W2V\n",
    "from nltk.tokenize import word_tokenize\n",
    "from gensim.models import Word2Vec\n",
    "from sklearn.linear_model import LogisticRegression\n",
    "\n",
    "#for BoW\n",
    "from sklearn.feature_extraction.text import CountVectorizer\n",
    "#also uses MultinomialNB()\n",
    "\n",
    "from tabulate import tabulate"
   ]
  },
  {
   "cell_type": "code",
   "execution_count": 2,
   "id": "f5ef0ef6",
   "metadata": {},
   "outputs": [
    {
     "data": {
      "text/html": [
       "<div>\n",
       "<style scoped>\n",
       "    .dataframe tbody tr th:only-of-type {\n",
       "        vertical-align: middle;\n",
       "    }\n",
       "\n",
       "    .dataframe tbody tr th {\n",
       "        vertical-align: top;\n",
       "    }\n",
       "\n",
       "    .dataframe thead th {\n",
       "        text-align: right;\n",
       "    }\n",
       "</style>\n",
       "<table border=\"1\" class=\"dataframe\">\n",
       "  <thead>\n",
       "    <tr style=\"text-align: right;\">\n",
       "      <th></th>\n",
       "      <th>app_id</th>\n",
       "      <th>app_name</th>\n",
       "      <th>review_text</th>\n",
       "      <th>review_score</th>\n",
       "      <th>review_votes</th>\n",
       "    </tr>\n",
       "  </thead>\n",
       "  <tbody>\n",
       "    <tr>\n",
       "      <th>0</th>\n",
       "      <td>10</td>\n",
       "      <td>Counter-Strike</td>\n",
       "      <td>This will be more of a ''my experience with th...</td>\n",
       "      <td>1.0</td>\n",
       "      <td>1.0</td>\n",
       "    </tr>\n",
       "    <tr>\n",
       "      <th>1</th>\n",
       "      <td>10</td>\n",
       "      <td>Counter-Strike</td>\n",
       "      <td>This game saved my virginity.</td>\n",
       "      <td>1.0</td>\n",
       "      <td>0.0</td>\n",
       "    </tr>\n",
       "    <tr>\n",
       "      <th>2</th>\n",
       "      <td>10</td>\n",
       "      <td>Counter-Strike</td>\n",
       "      <td>• Do you like original games? • Do you like ga...</td>\n",
       "      <td>1.0</td>\n",
       "      <td>0.0</td>\n",
       "    </tr>\n",
       "    <tr>\n",
       "      <th>3</th>\n",
       "      <td>10</td>\n",
       "      <td>Counter-Strike</td>\n",
       "      <td>Easy to learn, hard to master.</td>\n",
       "      <td>1.0</td>\n",
       "      <td>1.0</td>\n",
       "    </tr>\n",
       "    <tr>\n",
       "      <th>4</th>\n",
       "      <td>10</td>\n",
       "      <td>Counter-Strike</td>\n",
       "      <td>No r8 revolver, 10/10 will play again.</td>\n",
       "      <td>1.0</td>\n",
       "      <td>1.0</td>\n",
       "    </tr>\n",
       "  </tbody>\n",
       "</table>\n",
       "</div>"
      ],
      "text/plain": [
       "   app_id        app_name                                        review_text  \\\n",
       "0      10  Counter-Strike  This will be more of a ''my experience with th...   \n",
       "1      10  Counter-Strike                      This game saved my virginity.   \n",
       "2      10  Counter-Strike  • Do you like original games? • Do you like ga...   \n",
       "3      10  Counter-Strike           Easy to learn, hard to master.             \n",
       "4      10  Counter-Strike             No r8 revolver, 10/10 will play again.   \n",
       "\n",
       "   review_score  review_votes  \n",
       "0           1.0           1.0  \n",
       "1           1.0           0.0  \n",
       "2           1.0           0.0  \n",
       "3           1.0           1.0  \n",
       "4           1.0           1.0  "
      ]
     },
     "execution_count": 2,
     "metadata": {},
     "output_type": "execute_result"
    }
   ],
   "source": [
    "steam_review_raw = pd.read_csv('archive/dataset_edited.csv')\n",
    "steam_review_raw.head()"
   ]
  },
  {
   "cell_type": "code",
   "execution_count": 3,
   "id": "a2524038",
   "metadata": {},
   "outputs": [
    {
     "name": "stdout",
     "output_type": "stream",
     "text": [
      "app_id, contains null/NaN? : False\n",
      "app_name, contains null/NaN? : True\n",
      "review_text, contains null/NaN? : True\n",
      "review_score, contains null/NaN? : True\n",
      "review_votes, contains null/NaN? : True\n"
     ]
    }
   ],
   "source": [
    "for column in steam_review_raw.columns:\n",
    "    print(f\"{column}, contains null/NaN? : {steam_review_raw[column].isnull().values.any()}\")"
   ]
  },
  {
   "cell_type": "code",
   "execution_count": 4,
   "id": "2e26498d",
   "metadata": {},
   "outputs": [
    {
     "name": "stdout",
     "output_type": "stream",
     "text": [
      "app_id, contains null/NaN? : False\n",
      "app_name, contains null/NaN? : False\n",
      "review_text, contains null/NaN? : False\n",
      "review_score, contains null/NaN? : False\n",
      "review_votes, contains null/NaN? : False\n"
     ]
    }
   ],
   "source": [
    "steam_review_no_null = steam_review_raw.dropna(how='any',axis=0).copy()\n",
    "steam_review_raw = None\n",
    "for column in steam_review_no_null.columns:\n",
    "    print(f\"{column}, contains null/NaN? : {steam_review_no_null[column].isnull().values.any()}\")"
   ]
  },
  {
   "cell_type": "code",
   "execution_count": 5,
   "id": "eda8f6ef",
   "metadata": {},
   "outputs": [
    {
     "name": "stdout",
     "output_type": "stream",
     "text": [
      "There are 5126112 Positive Reviews\n",
      "There are 1100584 Negative Reviews\n"
     ]
    },
    {
     "data": {
      "text/plain": [
       "([<matplotlib.patches.Wedge at 0x1438000ec80>,\n",
       "  <matplotlib.patches.Wedge at 0x14388848700>],\n",
       " [Text(-0.9347256093484267, 0.5799034706123188, 'Positive = 82.3%'),\n",
       "  Text(0.934725582201185, -0.5799035143699821, 'Negative = 17.7%')])"
      ]
     },
     "execution_count": 5,
     "metadata": {},
     "output_type": "execute_result"
    },
    {
     "data": {
      "image/png": "[encoded data removed]",
      "text/plain": [
       "<Figure size 640x480 with 1 Axes>"
      ]
     },
     "metadata": {},
     "output_type": "display_data"
    }
   ],
   "source": [
    "positive_review_count = (steam_review_no_null['review_score'] == 1).sum()\n",
    "negative_review_count = (steam_review_no_null['review_score'] == -1).sum()\n",
    "print(f\"There are {positive_review_count} Positive Reviews\")\n",
    "print(f\"There are {negative_review_count} Negative Reviews\")\n",
    "\n",
    "\n",
    "labels = f'Positive = {round(positive_review_count/(positive_review_count + negative_review_count),3)*100}%', f'Negative = {round(negative_review_count/(positive_review_count + negative_review_count),3)*100}%'\n",
    "sizes = [positive_review_count, negative_review_count]\n",
    "fig, ax = plt.subplots()\n",
    "ax.pie(sizes, labels=labels)"
   ]
  },
  {
   "cell_type": "code",
   "execution_count": 6,
   "id": "d3871c6e",
   "metadata": {},
   "outputs": [],
   "source": [
    "steam_review_no_null['review_text_length'] = steam_review_no_null['review_text'].apply(lambda x: len(x.split()))"
   ]
  },
  {
   "cell_type": "code",
   "execution_count": 7,
   "id": "6265ba52",
   "metadata": {},
   "outputs": [
    {
     "data": {
      "image/png": "[encoded data removed]",
      "text/plain": [
       "<Figure size 800x500 with 1 Axes>"
      ]
     },
     "metadata": {},
     "output_type": "display_data"
    }
   ],
   "source": [
    "plt.figure(figsize=(8, 5))\n",
    "plt.hist(steam_review_no_null['review_text_length'], bins=10, edgecolor='black')\n",
    "plt.title('Distribution of Review Lengths (in words)')\n",
    "plt.xlabel('Number of Words')\n",
    "plt.ylabel('Number of Reviews')\n",
    "plt.grid(True)\n",
    "plt.show()"
   ]
  },
  {
   "cell_type": "code",
   "execution_count": 8,
   "id": "1627135c",
   "metadata": {},
   "outputs": [
    {
     "data": {
      "image/png": "[encoded data removed]",
      "text/plain": [
       "<Figure size 640x480 with 1 Axes>"
      ]
     },
     "metadata": {},
     "output_type": "display_data"
    }
   ],
   "source": [
    "sns.boxplot(x=steam_review_no_null['review_text_length'])\n",
    "plt.title(\"Boxplot of Review Text Length\")\n",
    "plt.xlabel(\"Number of Words\")\n",
    "plt.show()"
   ]
  },
  {
   "cell_type": "markdown",
   "id": "bda1b15d",
   "metadata": {},
   "source": [
    "The data set contains a lot of \"noise\", naturally since the steam reviews contains alot of internet references, emojis, ASCII art, and special character for memes formatting\n",
    "\n",
    "When skimming the reviews, you'll find usages of things like •, (), ~, ♥♥♥♥♥, ░░░░░░░░░░░░▄▄ , :-)"
   ]
  },
  {
   "cell_type": "code",
   "execution_count": 9,
   "id": "70ddec39",
   "metadata": {},
   "outputs": [
    {
     "name": "stdout",
     "output_type": "stream",
     "text": [
      "Most common characters: [(' ', 353907144), ('e', 171976393), ('t', 130731723), ('a', 119197260), ('o', 108798254), ('i', 97935844), ('s', 92018490), ('n', 90770480), ('r', 75848254), ('h', 66240622), ('l', 65606031), ('d', 47202018), ('u', 45055326), ('m', 44089084), ('g', 40607983), ('y', 38950037), ('c', 37277928), ('f', 29249829), ('p', 27456259), ('w', 24628760)]\n",
      "Least common characters: [('옹', 1), ('𝘒', 1), ('렴', 1), ('籌', 1), ('俘', 1), ('陨', 1), ('栓', 1), ('抬', 1), ('ړ', 1), ('⋏', 1), ('Ꭴ', 1), ('Ꮠ', 1), ('Ꭺ', 1), ('ʱ', 1), ('ᴶ', 1), ('북', 1), ('샷', 1), ('𝓗', 1), ('𝓑', 1), ('맙', 1)]\n"
     ]
    }
   ],
   "source": [
    "from collections import Counter\n",
    "\n",
    "# Join all reviews into one big string and count characters\n",
    "all_text = ' '.join(steam_review_no_null['review_text'].dropna())\n",
    "char_counts = Counter(all_text)\n",
    "\n",
    "# Print the 20 most common and 20 least common characters\n",
    "print(\"Most common characters:\", char_counts.most_common(20))\n",
    "print(\"Least common characters:\", char_counts.most_common()[:-21:-1])"
   ]
  },
  {
   "cell_type": "markdown",
   "id": "b2bab7cd",
   "metadata": {},
   "source": [
    "Numbers can sometimes carry sentiment-relevant information (e.g., “9/10”) and they can also act as semantic shortcuts, This undermine the project's objective of evaluating sentiment classification models.\n",
    "\n",
    "If left unprocessed, rating-like patterns (e.g., “10/10”, “0/10”) may become strong features for both TF-IDF and word embedding models. This introduces a risk where models \"cheat\" by relying on numerical scores rather than learning from the actual language used in the review. Such shortcuts compromise the integrity of the experiment (traditional vs. deep learning models understand linguistic sentiment).\n",
    "\n",
    "Therefore, instead of removing entire rows that contain numbers (which would result in a significant data loss), only the numbers themselves are removed using regular expressions.  Although removing all numbers might slightly lower raw model accuracy for actual usage, it improves the fairness and linguistic focus of the evaluation. The result is a more meaningful comparison of the models' capabilities in natural language understanding, which is the goals of the project."
   ]
  },
  {
   "cell_type": "code",
   "execution_count": 28,
   "id": "0d483980",
   "metadata": {},
   "outputs": [],
   "source": [
    "def clean_text(text):\n",
    "    \"\"\"\n",
    "    Cleans a string of text by removing noises:\n",
    "    - Removes URLs.\n",
    "    - Keeps only English letters and spaces (this removes numbers, punctuation, special chars).\n",
    "    - Converts to lowercase.\n",
    "    - Normalizes whitespace.\n",
    "    - Tokenise the reviews.\n",
    "    - Remove stop words.\n",
    "    - Reduces the word to its base form.\n",
    "    \"\"\"\n",
    "    if not isinstance(text, str):\n",
    "        return \"\"\n",
    "    \n",
    "    # Remove URLs first\n",
    "    text = re.sub(r'https?://\\S+|www\\.\\S+', '', text)\n",
    "\n",
    "    #remove HTML tags, just in case\n",
    "    text = re.sub(r'<.*?>', '', text)\n",
    "    \n",
    "    # This single regex line removes numbers, punctuation, and all non-english characters.\n",
    "    # It keeps the words and the spaces between them.\n",
    "    text = re.sub(r'[^a-zA-Z\\s]', '', text)\n",
    "            \n",
    "    # Convert to lowercase\n",
    "    text = text.lower()\n",
    "    \n",
    "    # Remove extra whitespace that might have been created\n",
    "    text = re.sub(r'\\s+', ' ', text).strip()\n",
    "\n",
    "    text_token = word_tokenize(text)\n",
    "\n",
    "    stop_words = set(stopwords.words('english'))\n",
    "    text_token_no_stopword = [word for word in text_token if word not in stop_words]\n",
    "\n",
    "    lemmatizer = WordNetLemmatizer()\n",
    "    lemmatized_text_token_no_stopword = [lemmatizer.lemmatize(word) for word in text_token_no_stopword]\n",
    "        \n",
    "    return ' '.join(lemmatized_text_token_no_stopword)"
   ]
  },
  {
   "cell_type": "markdown",
   "id": "54f6defc",
   "metadata": {},
   "source": [
    "Lemmatisation was chosen as the preferred text normalisation technique over stemming due to its accuracy and semantic preservation—key factors for this task.\n",
    "\n",
    "- Lemmatisation reduces words to their true dictionary form (lemmas), ensuring that related words like \"loved\", \"loving\", and \"loves\" are correctly mapped to \"love\". This helps preserve the underlying sentiment more accurately than stemming, which might reduce them to crude forms like \"lov\" or \"lovin\".\n",
    "\n",
    "- Stemming often produces non-words (e.g., \"studies\" → \"studi\"), which can lead to conflicts to similar terms with different meanings or connotations. On the other hand, lemmatisation ensures the meaningful distinctions between words are maintained, which is critical when training a model with such nuanced language.\n",
    "\n",
    "- Clean, linguistically valid tokens produced by lemmatisation make both the input and learned features easier to understand and debug. This leads to a more transparent and robust sentiment analysis pipeline. While lemmatization is computationally more expensive than stemming, its accuracy and linguistic integrity make it the more suitable for this project."
   ]
  },
  {
   "cell_type": "code",
   "execution_count": 11,
   "id": "6832355e",
   "metadata": {},
   "outputs": [
    {
     "data": {
      "text/html": [
       "<div>\n",
       "<style scoped>\n",
       "    .dataframe tbody tr th:only-of-type {\n",
       "        vertical-align: middle;\n",
       "    }\n",
       "\n",
       "    .dataframe tbody tr th {\n",
       "        vertical-align: top;\n",
       "    }\n",
       "\n",
       "    .dataframe thead th {\n",
       "        text-align: right;\n",
       "    }\n",
       "</style>\n",
       "<table border=\"1\" class=\"dataframe\">\n",
       "  <thead>\n",
       "    <tr style=\"text-align: right;\">\n",
       "      <th></th>\n",
       "      <th>app_id</th>\n",
       "      <th>app_name</th>\n",
       "      <th>review_text</th>\n",
       "      <th>review_score</th>\n",
       "      <th>review_votes</th>\n",
       "      <th>review_text_length</th>\n",
       "      <th>cleaned_review</th>\n",
       "    </tr>\n",
       "  </thead>\n",
       "  <tbody>\n",
       "    <tr>\n",
       "      <th>0</th>\n",
       "      <td>10</td>\n",
       "      <td>Counter-Strike</td>\n",
       "      <td>This will be more of a ''my experience with th...</td>\n",
       "      <td>1.0</td>\n",
       "      <td>1.0</td>\n",
       "      <td>449</td>\n",
       "      <td>experience game type review saying thing like ...</td>\n",
       "    </tr>\n",
       "    <tr>\n",
       "      <th>1</th>\n",
       "      <td>10</td>\n",
       "      <td>Counter-Strike</td>\n",
       "      <td>This game saved my virginity.</td>\n",
       "      <td>1.0</td>\n",
       "      <td>0.0</td>\n",
       "      <td>5</td>\n",
       "      <td>game saved virginity</td>\n",
       "    </tr>\n",
       "    <tr>\n",
       "      <th>2</th>\n",
       "      <td>10</td>\n",
       "      <td>Counter-Strike</td>\n",
       "      <td>• Do you like original games? • Do you like ga...</td>\n",
       "      <td>1.0</td>\n",
       "      <td>0.0</td>\n",
       "      <td>47</td>\n",
       "      <td>like original game like game dont lag like gam...</td>\n",
       "    </tr>\n",
       "    <tr>\n",
       "      <th>3</th>\n",
       "      <td>10</td>\n",
       "      <td>Counter-Strike</td>\n",
       "      <td>Easy to learn, hard to master.</td>\n",
       "      <td>1.0</td>\n",
       "      <td>1.0</td>\n",
       "      <td>6</td>\n",
       "      <td>easy learn hard master</td>\n",
       "    </tr>\n",
       "    <tr>\n",
       "      <th>4</th>\n",
       "      <td>10</td>\n",
       "      <td>Counter-Strike</td>\n",
       "      <td>No r8 revolver, 10/10 will play again.</td>\n",
       "      <td>1.0</td>\n",
       "      <td>1.0</td>\n",
       "      <td>7</td>\n",
       "      <td>r revolver play</td>\n",
       "    </tr>\n",
       "  </tbody>\n",
       "</table>\n",
       "</div>"
      ],
      "text/plain": [
       "   app_id        app_name                                        review_text  \\\n",
       "0      10  Counter-Strike  This will be more of a ''my experience with th...   \n",
       "1      10  Counter-Strike                      This game saved my virginity.   \n",
       "2      10  Counter-Strike  • Do you like original games? • Do you like ga...   \n",
       "3      10  Counter-Strike           Easy to learn, hard to master.             \n",
       "4      10  Counter-Strike             No r8 revolver, 10/10 will play again.   \n",
       "\n",
       "   review_score  review_votes  review_text_length  \\\n",
       "0           1.0           1.0                 449   \n",
       "1           1.0           0.0                   5   \n",
       "2           1.0           0.0                  47   \n",
       "3           1.0           1.0                   6   \n",
       "4           1.0           1.0                   7   \n",
       "\n",
       "                                      cleaned_review  \n",
       "0  experience game type review saying thing like ...  \n",
       "1                               game saved virginity  \n",
       "2  like original game like game dont lag like gam...  \n",
       "3                             easy learn hard master  \n",
       "4                                    r revolver play  "
      ]
     },
     "execution_count": 11,
     "metadata": {},
     "output_type": "execute_result"
    }
   ],
   "source": [
    "steam_review_no_null['cleaned_review'] = steam_review_no_null['review_text'].apply(clean_text)\n",
    "steam_review_no_null.head()"
   ]
  },
  {
   "cell_type": "markdown",
   "id": "d167f4c7",
   "metadata": {},
   "source": [
    "The original dataset encoded sentiment labels as 1 for positive and -1 for negative reviews. While this is understandable to a human reader, it is not ideal for most machine learning workflows.\n",
    "\n",
    "The standard input format expected by scikit-learn classifiers is non-negative integers starting from 0, typically {0, 1} for binary classification. Although some algorithms can handle {-1, 1}, using {0, 1} avoids unexpected behaviour and improves overall code compatibility and reliability. Additionally, mapping the classes to 0 = Negative and 1 = Positive makes model output and evaluation metrics easier to interpret, especially when using confusion matrices or classification reports.\n",
    "\n",
    "\n",
    "Furthermore, after text preprocessing (e.g., removing punctuation, symbols, and stop words), some reviews may become empty or null. These are the results of cleaning reviews typically consisting only of:\n",
    "\n",
    "- ASCII art\n",
    "\n",
    "- Emojis or special symbols\n",
    "\n",
    "- Ratings or filler characters\n",
    "\n",
    "As described earlier, while such reviews would offer meaningful textual content for actual sentiment classification task, their inclusion will affects the comparisons between the models as they study the fed data differently. Therefore, a post-cleaning step was implemented to filter out any empty or null reviews, ensuring that only valid word examples are retained in the dataset."
   ]
  },
  {
   "cell_type": "code",
   "execution_count": 29,
   "id": "e14b7de9",
   "metadata": {},
   "outputs": [],
   "source": [
    "def negative_to_0(number):\n",
    "    if number == -1:\n",
    "        return 0\n",
    "    else:\n",
    "        return number"
   ]
  },
  {
   "cell_type": "code",
   "execution_count": null,
   "id": "855e929d",
   "metadata": {},
   "outputs": [
    {
     "data": {
      "text/html": [
       "<div>\n",
       "<style scoped>\n",
       "    .dataframe tbody tr th:only-of-type {\n",
       "        vertical-align: middle;\n",
       "    }\n",
       "\n",
       "    .dataframe tbody tr th {\n",
       "        vertical-align: top;\n",
       "    }\n",
       "\n",
       "    .dataframe thead th {\n",
       "        text-align: right;\n",
       "    }\n",
       "</style>\n",
       "<table border=\"1\" class=\"dataframe\">\n",
       "  <thead>\n",
       "    <tr style=\"text-align: right;\">\n",
       "      <th></th>\n",
       "      <th>app_id</th>\n",
       "      <th>app_name</th>\n",
       "      <th>review_text</th>\n",
       "      <th>review_score</th>\n",
       "      <th>review_votes</th>\n",
       "      <th>review_text_length</th>\n",
       "      <th>cleaned_review</th>\n",
       "      <th>review_score_cleaned</th>\n",
       "    </tr>\n",
       "  </thead>\n",
       "  <tbody>\n",
       "    <tr>\n",
       "      <th>0</th>\n",
       "      <td>10</td>\n",
       "      <td>Counter-Strike</td>\n",
       "      <td>This will be more of a ''my experience with th...</td>\n",
       "      <td>1.0</td>\n",
       "      <td>1.0</td>\n",
       "      <td>449</td>\n",
       "      <td>experience game type review saying thing like ...</td>\n",
       "      <td>1.0</td>\n",
       "    </tr>\n",
       "    <tr>\n",
       "      <th>1</th>\n",
       "      <td>10</td>\n",
       "      <td>Counter-Strike</td>\n",
       "      <td>This game saved my virginity.</td>\n",
       "      <td>1.0</td>\n",
       "      <td>0.0</td>\n",
       "      <td>5</td>\n",
       "      <td>game saved virginity</td>\n",
       "      <td>1.0</td>\n",
       "    </tr>\n",
       "    <tr>\n",
       "      <th>2</th>\n",
       "      <td>10</td>\n",
       "      <td>Counter-Strike</td>\n",
       "      <td>• Do you like original games? • Do you like ga...</td>\n",
       "      <td>1.0</td>\n",
       "      <td>0.0</td>\n",
       "      <td>47</td>\n",
       "      <td>like original game like game dont lag like gam...</td>\n",
       "      <td>1.0</td>\n",
       "    </tr>\n",
       "    <tr>\n",
       "      <th>3</th>\n",
       "      <td>10</td>\n",
       "      <td>Counter-Strike</td>\n",
       "      <td>Easy to learn, hard to master.</td>\n",
       "      <td>1.0</td>\n",
       "      <td>1.0</td>\n",
       "      <td>6</td>\n",
       "      <td>easy learn hard master</td>\n",
       "      <td>1.0</td>\n",
       "    </tr>\n",
       "    <tr>\n",
       "      <th>4</th>\n",
       "      <td>10</td>\n",
       "      <td>Counter-Strike</td>\n",
       "      <td>No r8 revolver, 10/10 will play again.</td>\n",
       "      <td>1.0</td>\n",
       "      <td>1.0</td>\n",
       "      <td>7</td>\n",
       "      <td>r revolver play</td>\n",
       "      <td>1.0</td>\n",
       "    </tr>\n",
       "  </tbody>\n",
       "</table>\n",
       "</div>"
      ],
      "text/plain": [
       "   app_id        app_name                                        review_text  \\\n",
       "0      10  Counter-Strike  This will be more of a ''my experience with th...   \n",
       "1      10  Counter-Strike                      This game saved my virginity.   \n",
       "2      10  Counter-Strike  • Do you like original games? • Do you like ga...   \n",
       "3      10  Counter-Strike           Easy to learn, hard to master.             \n",
       "4      10  Counter-Strike             No r8 revolver, 10/10 will play again.   \n",
       "\n",
       "   review_score  review_votes  review_text_length  \\\n",
       "0           1.0           1.0                 449   \n",
       "1           1.0           0.0                   5   \n",
       "2           1.0           0.0                  47   \n",
       "3           1.0           1.0                   6   \n",
       "4           1.0           1.0                   7   \n",
       "\n",
       "                                      cleaned_review  review_score_cleaned  \n",
       "0  experience game type review saying thing like ...                   1.0  \n",
       "1                               game saved virginity                   1.0  \n",
       "2  like original game like game dont lag like gam...                   1.0  \n",
       "3                             easy learn hard master                   1.0  \n",
       "4                                    r revolver play                   1.0  "
      ]
     },
     "execution_count": 12,
     "metadata": {},
     "output_type": "execute_result"
    }
   ],
   "source": [
    "steam_review_no_null['review_score_cleaned'] = steam_review_no_null['review_score'].apply(negative_to_0)\n",
    "steam_review_no_null_cleaned = steam_review_no_null.dropna(how='any',axis=0).copy()\n",
    "steam_review_no_null = None\n",
    "steam_review_no_null_cleaned.head()"
   ]
  },
  {
   "cell_type": "code",
   "execution_count": 13,
   "id": "c22bcc6b",
   "metadata": {},
   "outputs": [],
   "source": [
    "steam_review_no_null_cleaned.to_csv('archive/steam_reviews_cleaned.csv', index=False)\n",
    "steam_review_no_null_cleaned = None"
   ]
  },
  {
   "cell_type": "markdown",
   "id": "c9fff6ce",
   "metadata": {},
   "source": [
    "In this project, the idea is to have the sentiment classifiers trained exclusively on the review text. Excluding the game's title (app_name) ensure the integrity and generalisability of the model:\n",
    "\n",
    "- Including the game title risks introducing \"target leakage\". Some games are overwhelmingly associated with a particular sentiment (e.g., Portal 2 with positive reviews), allowing the model to \"cheat\" by learning game-based shortcuts rather than the reviews' true sentiment patterns. This would produce inflated accuracy scores while undermining the model’s capability when reviewing unseen games.\n",
    "\n",
    "- The goal is to build a model that understands sentiment expressed through language, not one that memorises which games are popular. The models should aim to classify phrases like “a broken mess” or “a masterpiece” than the name itself.\n",
    "\n",
    "However, while excluding the game title avoids data leakage, it does limit the model’s understanding of game-specific sentiment context. Terms like “slow-paced” or “complex” can have different meanings depending on genre—positive in a strategy game, but negative in a shooter. For now, to ensure consistent and fair comparison, only the cleaned reviews are set as the feature to be fed into the models."
   ]
  },
  {
   "cell_type": "code",
   "execution_count": 3,
   "id": "d942852a",
   "metadata": {},
   "outputs": [
    {
     "data": {
      "text/html": [
       "<div>\n",
       "<style scoped>\n",
       "    .dataframe tbody tr th:only-of-type {\n",
       "        vertical-align: middle;\n",
       "    }\n",
       "\n",
       "    .dataframe tbody tr th {\n",
       "        vertical-align: top;\n",
       "    }\n",
       "\n",
       "    .dataframe thead th {\n",
       "        text-align: right;\n",
       "    }\n",
       "</style>\n",
       "<table border=\"1\" class=\"dataframe\">\n",
       "  <thead>\n",
       "    <tr style=\"text-align: right;\">\n",
       "      <th></th>\n",
       "      <th>app_id</th>\n",
       "      <th>app_name</th>\n",
       "      <th>review_text</th>\n",
       "      <th>review_score</th>\n",
       "      <th>review_votes</th>\n",
       "      <th>review_text_length</th>\n",
       "      <th>cleaned_review</th>\n",
       "      <th>review_score_cleaned</th>\n",
       "    </tr>\n",
       "  </thead>\n",
       "  <tbody>\n",
       "    <tr>\n",
       "      <th>0</th>\n",
       "      <td>10</td>\n",
       "      <td>Counter-Strike</td>\n",
       "      <td>This will be more of a ''my experience with th...</td>\n",
       "      <td>1.0</td>\n",
       "      <td>1.0</td>\n",
       "      <td>449</td>\n",
       "      <td>experience game type review saying thing like ...</td>\n",
       "      <td>1.0</td>\n",
       "    </tr>\n",
       "    <tr>\n",
       "      <th>1</th>\n",
       "      <td>10</td>\n",
       "      <td>Counter-Strike</td>\n",
       "      <td>This game saved my virginity.</td>\n",
       "      <td>1.0</td>\n",
       "      <td>0.0</td>\n",
       "      <td>5</td>\n",
       "      <td>game saved virginity</td>\n",
       "      <td>1.0</td>\n",
       "    </tr>\n",
       "    <tr>\n",
       "      <th>2</th>\n",
       "      <td>10</td>\n",
       "      <td>Counter-Strike</td>\n",
       "      <td>• Do you like original games? • Do you like ga...</td>\n",
       "      <td>1.0</td>\n",
       "      <td>0.0</td>\n",
       "      <td>47</td>\n",
       "      <td>like original game like game dont lag like gam...</td>\n",
       "      <td>1.0</td>\n",
       "    </tr>\n",
       "    <tr>\n",
       "      <th>3</th>\n",
       "      <td>10</td>\n",
       "      <td>Counter-Strike</td>\n",
       "      <td>Easy to learn, hard to master.</td>\n",
       "      <td>1.0</td>\n",
       "      <td>1.0</td>\n",
       "      <td>6</td>\n",
       "      <td>easy learn hard master</td>\n",
       "      <td>1.0</td>\n",
       "    </tr>\n",
       "    <tr>\n",
       "      <th>4</th>\n",
       "      <td>10</td>\n",
       "      <td>Counter-Strike</td>\n",
       "      <td>No r8 revolver, 10/10 will play again.</td>\n",
       "      <td>1.0</td>\n",
       "      <td>1.0</td>\n",
       "      <td>7</td>\n",
       "      <td>r revolver play</td>\n",
       "      <td>1.0</td>\n",
       "    </tr>\n",
       "  </tbody>\n",
       "</table>\n",
       "</div>"
      ],
      "text/plain": [
       "   app_id        app_name                                        review_text  \\\n",
       "0      10  Counter-Strike  This will be more of a ''my experience with th...   \n",
       "1      10  Counter-Strike                      This game saved my virginity.   \n",
       "2      10  Counter-Strike  • Do you like original games? • Do you like ga...   \n",
       "3      10  Counter-Strike           Easy to learn, hard to master.             \n",
       "4      10  Counter-Strike             No r8 revolver, 10/10 will play again.   \n",
       "\n",
       "   review_score  review_votes  review_text_length  \\\n",
       "0           1.0           1.0                 449   \n",
       "1           1.0           0.0                   5   \n",
       "2           1.0           0.0                  47   \n",
       "3           1.0           1.0                   6   \n",
       "4           1.0           1.0                   7   \n",
       "\n",
       "                                      cleaned_review  review_score_cleaned  \n",
       "0  experience game type review saying thing like ...                   1.0  \n",
       "1                               game saved virginity                   1.0  \n",
       "2  like original game like game dont lag like gam...                   1.0  \n",
       "3                             easy learn hard master                   1.0  \n",
       "4                                    r revolver play                   1.0  "
      ]
     },
     "execution_count": 3,
     "metadata": {},
     "output_type": "execute_result"
    }
   ],
   "source": [
    "steam_review = pd.read_csv('archive/steam_reviews_cleaned.csv')\n",
    "steam_review.head()"
   ]
  },
  {
   "cell_type": "markdown",
   "id": "d7f412aa",
   "metadata": {},
   "source": [
    "Although K-Fold Cross-Validation is a popular approach for these type of works, this project uses a more simple train-test split due to the following key considerations:\n",
    "\n",
    "- Cross-validation requires training and evaluating the model multiple times, which is computationally expensive—especially with large datasets and high-dimensional feature extraction methods like TF-IDF. A single split dramatically reduces runtime and allows for faster experimentation and debugging. For example, producing of the w2v_model variable with 80% of the tokenised dataset requires 45 minutes. Therefore, applying K-Fold Cross-Validation where k = 5 would be detrimental in managing time for this project.\n",
    "\n",
    "- The dataset used is large (approximately 2GB), containing millions of entries. An 80/20 train-test split, or even smaller, would provides a sufficiently large and representative test set. With such volume, performance estimates from a single split are generally stable.\n",
    "\n",
    "- The primary aim of this project is to compare two different text representation methods. Cross-validation would add unnecessary complexity without offering significant benefits to each of the model's output. Thus, diverting attention from the core comparative analysis.\n",
    "\n",
    "- While K-Fold CV would yield performance metrics with a standard deviation, offering a more in-depth evaluation, the minimal improvement is not justified by the added computational cost and code complexity with the consideration of the dataset’s scale.\n"
   ]
  },
  {
   "cell_type": "code",
   "execution_count": 4,
   "id": "21234d22",
   "metadata": {},
   "outputs": [
    {
     "data": {
      "text/html": [
       "<div>\n",
       "<style scoped>\n",
       "    .dataframe tbody tr th:only-of-type {\n",
       "        vertical-align: middle;\n",
       "    }\n",
       "\n",
       "    .dataframe tbody tr th {\n",
       "        vertical-align: top;\n",
       "    }\n",
       "\n",
       "    .dataframe thead th {\n",
       "        text-align: right;\n",
       "    }\n",
       "</style>\n",
       "<table border=\"1\" class=\"dataframe\">\n",
       "  <thead>\n",
       "    <tr style=\"text-align: right;\">\n",
       "      <th></th>\n",
       "      <th>cleaned_review</th>\n",
       "      <th>review_score_cleaned</th>\n",
       "    </tr>\n",
       "  </thead>\n",
       "  <tbody>\n",
       "    <tr>\n",
       "      <th>2314436</th>\n",
       "      <td>lot rhythm game probably played yet single gam...</td>\n",
       "      <td>1.0</td>\n",
       "    </tr>\n",
       "    <tr>\n",
       "      <th>3864688</th>\n",
       "      <td>great rally simulator perhaps best date need m...</td>\n",
       "      <td>1.0</td>\n",
       "    </tr>\n",
       "    <tr>\n",
       "      <th>4382151</th>\n",
       "      <td>early access review</td>\n",
       "      <td>1.0</td>\n",
       "    </tr>\n",
       "    <tr>\n",
       "      <th>5901754</th>\n",
       "      <td>there adage dota community often quote someone...</td>\n",
       "      <td>1.0</td>\n",
       "    </tr>\n",
       "    <tr>\n",
       "      <th>4925601</th>\n",
       "      <td>word person enjoys game text speech type brbrb...</td>\n",
       "      <td>1.0</td>\n",
       "    </tr>\n",
       "  </tbody>\n",
       "</table>\n",
       "</div>"
      ],
      "text/plain": [
       "                                            cleaned_review  \\\n",
       "2314436  lot rhythm game probably played yet single gam...   \n",
       "3864688  great rally simulator perhaps best date need m...   \n",
       "4382151                                early access review   \n",
       "5901754  there adage dota community often quote someone...   \n",
       "4925601  word person enjoys game text speech type brbrb...   \n",
       "\n",
       "         review_score_cleaned  \n",
       "2314436                   1.0  \n",
       "3864688                   1.0  \n",
       "4382151                   1.0  \n",
       "5901754                   1.0  \n",
       "4925601                   1.0  "
      ]
     },
     "execution_count": 4,
     "metadata": {},
     "output_type": "execute_result"
    }
   ],
   "source": [
    "steam_review_no_null_2 = steam_review.dropna(how='any',axis=0).copy()\n",
    "steam_review = None\n",
    "X = steam_review_no_null_2['cleaned_review']\n",
    "y = steam_review_no_null_2['review_score_cleaned']\n",
    "_, df_temp, _, _ = train_test_split(X, y,test_size=1000000,stratify=y,random_state=42) # to reduce the entry count to 1 million.\n",
    "df_temp = pd.concat([df_temp, y.loc[df_temp.index]], axis=1)\n",
    "steam_review_no_null_2 = None\n",
    "df_temp.head()\n"
   ]
  },
  {
   "attachments": {
    "image.png": {
     "image/png": "[encoded data removed]"
    }
   },
   "cell_type": "markdown",
   "id": "25ef594b",
   "metadata": {},
   "source": [
    "The reason for limiting the training data to just one million entries lies with the computational power of the device used for this project. Here is the error I once received when training the W2V model with the entire dataset:\n",
    "\n",
    "![image.png](attachment:image.png)"
   ]
  },
  {
   "cell_type": "code",
   "execution_count": 5,
   "id": "26609968",
   "metadata": {},
   "outputs": [],
   "source": [
    "X = df_temp['cleaned_review']\n",
    "y = df_temp['review_score_cleaned']\n",
    "X_train, X_test, y_train, y_test = train_test_split(X, y, test_size=0.2, random_state=4, stratify=y)"
   ]
  },
  {
   "cell_type": "code",
   "execution_count": 6,
   "id": "af32ff5e",
   "metadata": {},
   "outputs": [],
   "source": [
    "ROS = RandomOverSampler(random_state=42)"
   ]
  },
  {
   "cell_type": "markdown",
   "id": "5ebf0c9b",
   "metadata": {},
   "source": [
    "Random Oversampling was chosen to address the class imbalance:\n",
    "\n",
    "- Random Oversampling is straightforward and avoids introducing unnecessary complexity. Since the primary aim of the project is to compare text representation methods (e.g., TF-IDF vs. LSI), using a simple resampling method keeps the focus on vectorisation rather than on the effects of advanced sampling techniques.\n",
    "\n",
    "- Unlike undersampling, which would discard a large portion of the majority class (positive reviews), oversampling preserves the original data. Given the already limited number of negative reviews, this is need for the model's learning capability.\n",
    "\n",
    "- Techniques like SMOTE can introduce noise and unreliable synthetic samples in high-dimensional spaces such as those produced by TF-IDF. Random Oversampling avoids this issue by not generating artificial text vectors.\n",
    "\n",
    "That being said, Oversampling is applied right before training the models. Applying oversampling beforehand would alter the document frequency statistics, leading to distorted values especially for TF-IDF and BoW. Thus, compromise their feature integrity."
   ]
  },
  {
   "cell_type": "markdown",
   "id": "9274411b",
   "metadata": {},
   "source": [
    "---"
   ]
  },
  {
   "cell_type": "markdown",
   "id": "5b48c6e2",
   "metadata": {},
   "source": [
    "---\n",
    "\n",
    "6. TF-IDF IMPLEMENTATION"
   ]
  },
  {
   "cell_type": "code",
   "execution_count": 7,
   "id": "f4558cc2",
   "metadata": {},
   "outputs": [],
   "source": [
    "tfidf = TfidfVectorizer()\n",
    "X_train_tfidf = tfidf.fit_transform(X_train)\n",
    "X_test_tfidf  = tfidf.transform(X_test)\n",
    "\n",
    "X_tfidf_ros, y_train_ros = ROS.fit_resample(X_train_tfidf, y_train)"
   ]
  },
  {
   "cell_type": "code",
   "execution_count": 8,
   "id": "c1ae7cc6",
   "metadata": {},
   "outputs": [],
   "source": [
    "nb_classifier_tfidf = MultinomialNB()\n",
    "nb_classifier_tfidf.fit(X_tfidf_ros,y_train_ros)\n",
    "y_pred_tfidf = nb_classifier_tfidf.predict(X_test_tfidf)"
   ]
  },
  {
   "cell_type": "code",
   "execution_count": 9,
   "id": "af00172d",
   "metadata": {},
   "outputs": [],
   "source": [
    "accuracy_tfidf = accuracy_score(y_test,y_pred_tfidf)\n",
    "\n",
    "report_tfidf = classification_report(y_test, y_pred_tfidf, target_names=['Negative', 'Positive'],output_dict=True)\n",
    "# print(\"\\nTF-IDF Classification Report:\")\n",
    "# print(report_tfidf)\n",
    "\n",
    "cm_tfidf = confusion_matrix(y_test, y_pred_tfidf)\n",
    "# print(\"\\nTF-IDF Confusion Matrix:\")\n",
    "# print(cm_tfidf)"
   ]
  },
  {
   "cell_type": "markdown",
   "id": "d9faeb1f",
   "metadata": {},
   "source": [
    "---"
   ]
  },
  {
   "cell_type": "markdown",
   "id": "7f1cfcd6",
   "metadata": {},
   "source": [
    "---\n",
    "\n",
    "7. Word2Vec\n",
    "\n"
   ]
  },
  {
   "cell_type": "code",
   "execution_count": 10,
   "id": "4992a78b",
   "metadata": {},
   "outputs": [],
   "source": [
    "X_train_tokens = [word_tokenize(review) for review in X_train]\n",
    "X_test_tokens = [word_tokenize(review) for review in X_test]"
   ]
  },
  {
   "cell_type": "code",
   "execution_count": 11,
   "id": "041fc983",
   "metadata": {},
   "outputs": [],
   "source": [
    "w2v_model = Word2Vec(sentences=X_train_tokens, \n",
    "                     vector_size=300, # Size of the embedding vector\n",
    "                     window=5, # Context window size\n",
    "                     min_count=2, # Minimum word frequency\n",
    "                     workers=4) # Number of CPU cores/threads"
   ]
  },
  {
   "cell_type": "code",
   "execution_count": 12,
   "id": "a097b6e9",
   "metadata": {},
   "outputs": [],
   "source": [
    "def vectorize_document(doc, model):\n",
    "    vectors = [model.wv[word] for word in doc if word in model.wv]\n",
    "    if len(vectors) == 0:\n",
    "        return np.zeros(model.vector_size)\n",
    "    return np.mean(vectors, axis=0)\n",
    "\n",
    "X_train_w2v = np.array([vectorize_document(doc, w2v_model) for doc in X_train_tokens])\n",
    "X_test_w2v = np.array([vectorize_document(doc, w2v_model) for doc in X_test_tokens])\n",
    "\n",
    "#W2v converts words into dense numeric vectors (e.g., 100 dimensions)\n",
    "    # Similar words are close together in vector space\n",
    "    # Dissimilar words are far apart\n",
    "\n",
    "    # Preserve semantic relationships.\n",
    "    # Similar words have similar vectors.\n",
    "    # Turns a text document into a dense and compact feature vector, which:\n",
    "    #     Is numerically stable for models like Logistic Regression\n",
    "    #     Enables generalisation across synonyms and word variants"
   ]
  },
  {
   "cell_type": "code",
   "execution_count": 13,
   "id": "b5954abb",
   "metadata": {},
   "outputs": [],
   "source": [
    "X_train_w2v_res, y_train_w2v_res = ROS.fit_resample(X_train_w2v, y_train)"
   ]
  },
  {
   "cell_type": "code",
   "execution_count": 14,
   "id": "60916821",
   "metadata": {},
   "outputs": [],
   "source": [
    "lr_classifier_w2v = LogisticRegression(max_iter=1000)\n",
    "lr_classifier_w2v.fit(X_train_w2v_res, y_train_w2v_res)\n",
    "y_pred_w2v = lr_classifier_w2v.predict(X_test_w2v)\n",
    "\n",
    "#  Why does this work?\n",
    "#     Each document is now a dense vector capturing the meaning of its words\n",
    "#     Logistic Regression learns boundaries between positive/negative (or other) reviews based on these semantic signals\n",
    "#     It generalises better than TF-IDF when synonyms or rewordings appear"
   ]
  },
  {
   "cell_type": "code",
   "execution_count": 15,
   "id": "ca70100a",
   "metadata": {},
   "outputs": [],
   "source": [
    "accuracy_w2v = accuracy_score(y_test, y_pred_w2v)\n",
    "report_w2v = classification_report(y_test, y_pred_w2v, target_names=['Negative', 'Positive'],output_dict=True)\n",
    "cm_w2v = confusion_matrix(y_test, y_pred_w2v)\n",
    "\n",
    "# print(f\"\\nWord2Vec Model Accuracy: {accuracy_w2v}\")\n",
    "# print(\"\\nWord2Vec Classification Report:\")\n",
    "# print(report_w2v)\n",
    "# print(\"\\nWord2Vec Confusion Matrix:\")\n",
    "# print(cm_w2v)"
   ]
  },
  {
   "cell_type": "markdown",
   "id": "48c6a69d",
   "metadata": {},
   "source": [
    "---"
   ]
  },
  {
   "cell_type": "markdown",
   "id": "81ce327b",
   "metadata": {},
   "source": [
    "---\n",
    "\n",
    "8. Bag of Words\n"
   ]
  },
  {
   "cell_type": "code",
   "execution_count": 16,
   "id": "dee355c4",
   "metadata": {},
   "outputs": [],
   "source": [
    "bow_vectorizer = CountVectorizer()\n",
    "X_train_bow = bow_vectorizer.fit_transform(X_train)\n",
    "X_test_bow = bow_vectorizer.transform(X_test)"
   ]
  },
  {
   "cell_type": "code",
   "execution_count": 17,
   "id": "cbe82c18",
   "metadata": {},
   "outputs": [],
   "source": [
    "X_train_bow_res, y_train_res = ROS.fit_resample(X_train_bow, y_train)"
   ]
  },
  {
   "cell_type": "code",
   "execution_count": 18,
   "id": "50a4c4ed",
   "metadata": {},
   "outputs": [],
   "source": [
    "nb_classifier_bow = MultinomialNB()\n",
    "nb_classifier_bow.fit(X_train_bow_res, y_train_res)\n",
    "y_pred_bow = nb_classifier_bow.predict(X_test_bow)"
   ]
  },
  {
   "cell_type": "code",
   "execution_count": 19,
   "id": "c2274b2d",
   "metadata": {},
   "outputs": [],
   "source": [
    "accuracy_bow = accuracy_score(y_test, y_pred_bow)\n",
    "report_bow = classification_report(y_test, y_pred_bow, target_names=['Negative', 'Positive'],output_dict=True)\n",
    "cm_bow = confusion_matrix(y_test, y_pred_bow)\n",
    "\n",
    "# print(f\"\\nBag-of-Words Model Accuracy: {accuracy_bow}\")\n",
    "# print(\"\\nBag-of-Words Classification Report:\")\n",
    "# print(report_bow)\n",
    "# print(\"\\nBag-of-Words Confusion Matrix:\")\n",
    "# print(cm_bow)"
   ]
  },
  {
   "cell_type": "markdown",
   "id": "9340db01",
   "metadata": {},
   "source": [
    "---"
   ]
  },
  {
   "cell_type": "markdown",
   "id": "b76c285d",
   "metadata": {},
   "source": [
    "---\n",
    "\n",
    "9. DISPLAYING THE RESULTS"
   ]
  },
  {
   "cell_type": "code",
   "execution_count": 20,
   "id": "6a80a93b",
   "metadata": {},
   "outputs": [],
   "source": [
    "#Accuracy and Confusion Matrices"
   ]
  },
  {
   "cell_type": "code",
   "execution_count": 21,
   "id": "30a08cd4",
   "metadata": {},
   "outputs": [
    {
     "name": "stdout",
     "output_type": "stream",
     "text": [
      "\n",
      "Bag-of-Words Model Accuracy: 0.821605\n",
      "\n",
      "Bag-of-Words Classification Report:\n",
      "              precision    recall  f1-score        support\n",
      "Negative       0.496915  0.671433  0.571140   35384.000000\n",
      "Positive       0.923608  0.853884  0.887379  164616.000000\n",
      "accuracy       0.821605  0.821605  0.821605       0.821605\n",
      "macro avg      0.710262  0.762659  0.729259  200000.000000\n",
      "weighted avg   0.848118  0.821605  0.831430  200000.000000\n"
     ]
    },
    {
     "data": {
      "image/png": "[encoded data removed]",
      "text/plain": [
       "<Figure size 600x400 with 2 Axes>"
      ]
     },
     "metadata": {},
     "output_type": "display_data"
    }
   ],
   "source": [
    "#BoW\n",
    "print(f\"\\nBag-of-Words Model Accuracy: {accuracy_bow}\")\n",
    "\n",
    "report_bow_df = pd.DataFrame(report_bow).transpose()\n",
    "print(\"\\nBag-of-Words Classification Report:\")\n",
    "print(report_bow_df)\n",
    "\n",
    "# Plot as heatmap\n",
    "plt.figure(figsize=(6, 4))\n",
    "sns.heatmap(cm_bow, annot=True, fmt='d', cmap='Blues',\n",
    "            xticklabels=['Negative', 'Positive'],\n",
    "            yticklabels=['Negative', 'Positive'])\n",
    "\n",
    "plt.title('Bag-of-Words Confusion Matrix')\n",
    "plt.xlabel('Predicted')\n",
    "plt.ylabel('Actual')\n",
    "plt.show()"
   ]
  },
  {
   "cell_type": "code",
   "execution_count": 22,
   "id": "0fd1925d",
   "metadata": {},
   "outputs": [
    {
     "name": "stdout",
     "output_type": "stream",
     "text": [
      "\n",
      "TF-IDF Model Accuracy: 0.72422\n",
      "\n",
      "TF-IDF Classification Report:\n",
      "              precision    recall  f1-score       support\n",
      "Negative       0.378200  0.867539  0.526761   35384.00000\n",
      "Positive       0.960558  0.693414  0.805412  164616.00000\n",
      "accuracy       0.724220  0.724220  0.724220       0.72422\n",
      "macro avg      0.669379  0.780476  0.666086  200000.00000\n",
      "weighted avg   0.857528  0.724220  0.756113  200000.00000\n"
     ]
    },
    {
     "data": {
      "image/png": "[encoded data removed]",
      "text/plain": [
       "<Figure size 600x400 with 2 Axes>"
      ]
     },
     "metadata": {},
     "output_type": "display_data"
    }
   ],
   "source": [
    "#TFIDF\n",
    "print(f\"\\nTF-IDF Model Accuracy: {accuracy_tfidf}\")\n",
    "\n",
    "report_tfidf_df = pd.DataFrame(report_tfidf).transpose()\n",
    "print(\"\\nTF-IDF Classification Report:\")\n",
    "print(report_tfidf_df)\n",
    "\n",
    "# Plot as heatmap\n",
    "plt.figure(figsize=(6, 4))\n",
    "sns.heatmap(cm_tfidf, annot=True, fmt='d', cmap='Blues',\n",
    "            xticklabels=['Negative', 'Positive'],\n",
    "            yticklabels=['Negative', 'Positive'])\n",
    "\n",
    "plt.title('TF-IDF Confusion Matrix')\n",
    "plt.xlabel('Predicted')\n",
    "plt.ylabel('Actual')\n",
    "plt.show()"
   ]
  },
  {
   "cell_type": "code",
   "execution_count": 23,
   "id": "ec4f7345",
   "metadata": {},
   "outputs": [
    {
     "name": "stdout",
     "output_type": "stream",
     "text": [
      "\n",
      "Word2Vec Model Accuracy: 0.727625\n",
      "\n",
      "Word2Vec Classification Report:\n",
      "              precision    recall  f1-score        support\n",
      "Negative       0.381093  0.864600  0.529012   35384.000000\n",
      "Positive       0.959983  0.698182  0.808415  164616.000000\n",
      "accuracy       0.727625  0.727625  0.727625       0.727625\n",
      "macro avg      0.670538  0.781391  0.668713  200000.000000\n",
      "weighted avg   0.857565  0.727625  0.758983  200000.000000\n"
     ]
    },
    {
     "data": {
      "image/png": "[encoded data removed]",
      "text/plain": [
       "<Figure size 600x400 with 2 Axes>"
      ]
     },
     "metadata": {},
     "output_type": "display_data"
    }
   ],
   "source": [
    "#W2V\n",
    "print(f\"\\nWord2Vec Model Accuracy: {accuracy_w2v}\")\n",
    "\n",
    "report_w2v_df = pd.DataFrame(report_w2v).transpose()\n",
    "print(\"\\nWord2Vec Classification Report:\")\n",
    "print(report_w2v_df)\n",
    "\n",
    "# Plot as heatmap\n",
    "plt.figure(figsize=(6, 4))\n",
    "sns.heatmap(cm_w2v, annot=True, fmt='d', cmap='Blues',\n",
    "            xticklabels=['Negative', 'Positive'],\n",
    "            yticklabels=['Negative', 'Positive'])\n",
    "\n",
    "plt.title('Word2Vec Confusion Matrix')\n",
    "plt.xlabel('Predicted')\n",
    "plt.ylabel('Actual')\n",
    "plt.show()"
   ]
  },
  {
   "cell_type": "code",
   "execution_count": 24,
   "id": "12ea97f7",
   "metadata": {},
   "outputs": [
    {
     "data": {
      "text/html": [
       "<div>\n",
       "<style scoped>\n",
       "    .dataframe tbody tr th:only-of-type {\n",
       "        vertical-align: middle;\n",
       "    }\n",
       "\n",
       "    .dataframe tbody tr th {\n",
       "        vertical-align: top;\n",
       "    }\n",
       "\n",
       "    .dataframe thead th {\n",
       "        text-align: right;\n",
       "    }\n",
       "</style>\n",
       "<table border=\"1\" class=\"dataframe\">\n",
       "  <thead>\n",
       "    <tr style=\"text-align: right;\">\n",
       "      <th></th>\n",
       "      <th>app_id</th>\n",
       "      <th>app_name</th>\n",
       "      <th>review_text</th>\n",
       "      <th>review_score</th>\n",
       "      <th>review_votes</th>\n",
       "    </tr>\n",
       "  </thead>\n",
       "  <tbody>\n",
       "    <tr>\n",
       "      <th>0</th>\n",
       "      <td>99910</td>\n",
       "      <td>Puzzle Pirates</td>\n",
       "      <td>valve pls why...3spooky5me cant handel</td>\n",
       "      <td>-1</td>\n",
       "      <td>0</td>\n",
       "    </tr>\n",
       "    <tr>\n",
       "      <th>1</th>\n",
       "      <td>380220</td>\n",
       "      <td>Hover Junkers</td>\n",
       "      <td>https://www.youtube.com/watch?v=VgAZhIoNLjE</td>\n",
       "      <td>1</td>\n",
       "      <td>0</td>\n",
       "    </tr>\n",
       "    <tr>\n",
       "      <th>2</th>\n",
       "      <td>359550</td>\n",
       "      <td>Tom Clancy's Rainbow Six Siege</td>\n",
       "      <td>-Be me -Play Rainbow 6 seige -Waited for 3 m...</td>\n",
       "      <td>-1</td>\n",
       "      <td>0</td>\n",
       "    </tr>\n",
       "    <tr>\n",
       "      <th>3</th>\n",
       "      <td>359550</td>\n",
       "      <td>Tom Clancy's Rainbow Six Siege</td>\n",
       "      <td>Great game had to run it 30 sec and it did mak...</td>\n",
       "      <td>-1</td>\n",
       "      <td>0</td>\n",
       "    </tr>\n",
       "    <tr>\n",
       "      <th>4</th>\n",
       "      <td>290300</td>\n",
       "      <td>Rebel Galaxy</td>\n",
       "      <td>Scratches the freelancer itch - I'm trading, u...</td>\n",
       "      <td>1</td>\n",
       "      <td>0</td>\n",
       "    </tr>\n",
       "  </tbody>\n",
       "</table>\n",
       "</div>"
      ],
      "text/plain": [
       "   app_id                        app_name  \\\n",
       "0   99910                  Puzzle Pirates   \n",
       "1  380220                   Hover Junkers   \n",
       "2  359550  Tom Clancy's Rainbow Six Siege   \n",
       "3  359550  Tom Clancy's Rainbow Six Siege   \n",
       "4  290300                    Rebel Galaxy   \n",
       "\n",
       "                                         review_text  review_score  \\\n",
       "0             valve pls why...3spooky5me cant handel            -1   \n",
       "1       https://www.youtube.com/watch?v=VgAZhIoNLjE              1   \n",
       "2    -Be me -Play Rainbow 6 seige -Waited for 3 m...            -1   \n",
       "3  Great game had to run it 30 sec and it did mak...            -1   \n",
       "4  Scratches the freelancer itch - I'm trading, u...             1   \n",
       "\n",
       "   review_votes  \n",
       "0             0  \n",
       "1             0  \n",
       "2             0  \n",
       "3             0  \n",
       "4             0  "
      ]
     },
     "execution_count": 24,
     "metadata": {},
     "output_type": "execute_result"
    }
   ],
   "source": [
    "#Qualitative Error Analysis\n",
    "selected_review = pd.read_csv('archive/selected_reviews.csv')\n",
    "selected_review.head()"
   ]
  },
  {
   "cell_type": "code",
   "execution_count": 25,
   "id": "774c5c8e",
   "metadata": {},
   "outputs": [
    {
     "name": "stdout",
     "output_type": "stream",
     "text": [
      "0                valve pls why...3spooky5me cant handel\n",
      "1          https://www.youtube.com/watch?v=VgAZhIoNLjE \n",
      "2       -Be me -Play Rainbow 6 seige -Waited for 3 m...\n",
      "3     Great game had to run it 30 sec and it did mak...\n",
      "4     Scratches the freelancer itch - I'm trading, u...\n",
      "5     This game is way too goat for me. I simply can...\n",
      "6     Let me out, what you see is not the same perso...\n",
      "7     Log: day 1:  I've bought a game called Cities:...\n",
      "8                              Makes you really hate EA\n",
      "9     How to play Cities: Skylines:  YOU DON'T.  10/...\n",
      "10    This game beats simcity 5 By 16000000000000000...\n",
      "11    MAKOTO IS SUPERIOR WAIFU, THOUGH SHE CANNOT CO...\n",
      "12    Day one of Japan and already I have been p!sse...\n",
      "13    No. You need to level up to use basic ♥♥♥♥ing ...\n",
      "14    do not down;oad mods it will destroy your game...\n",
      "15                                    for mother russia\n",
      "16                                      Ruined my life.\n",
      "17    Okay, one of my serious reviews, but you're pr...\n",
      "18                             Killed by a fly    10/10\n",
      "19    Yet another great game ruined by its community...\n",
      "20                                  ♥♥♥♥ing cod rip off\n",
      "21    Probably the black sheep of the postal series,...\n",
      "22                 ♥♥♥♥ S H I T S H I T S H I T S H I T\n",
      "Name: review_text, dtype: object\n"
     ]
    }
   ],
   "source": [
    "review_text_col = selected_review[\"review_text\"]\n",
    "print(review_text_col)"
   ]
  },
  {
   "cell_type": "code",
   "execution_count": 26,
   "id": "cb82c540",
   "metadata": {},
   "outputs": [
    {
     "name": "stdout",
     "output_type": "stream",
     "text": [
      "There are 12 Positive Reviews\n",
      "There are 11 Negative Reviews\n"
     ]
    },
    {
     "data": {
      "text/plain": [
       "([<matplotlib.patches.Wedge at 0x1f1965474f0>,\n",
       "  <matplotlib.patches.Wedge at 0x1f196544130>],\n",
       " [Text(-0.07506663683168735, 1.097435647331897, 'Positive = 52.2%'),\n",
       "  Text(0.07506663683168721, -1.097435647331897, 'Negative = 47.8%')])"
      ]
     },
     "execution_count": 26,
     "metadata": {},
     "output_type": "execute_result"
    },
    {
     "data": {
      "image/png": "[encoded data removed]",
      "text/plain": [
       "<Figure size 640x480 with 1 Axes>"
      ]
     },
     "metadata": {},
     "output_type": "display_data"
    }
   ],
   "source": [
    "positive_review_count = (selected_review['review_score'] == 1).sum()\n",
    "negative_review_count = (selected_review['review_score'] == -1).sum()\n",
    "print(f\"There are {positive_review_count} Positive Reviews\")\n",
    "print(f\"There are {negative_review_count} Negative Reviews\")\n",
    "\n",
    "\n",
    "labels = f'Positive = {round(positive_review_count/(positive_review_count + negative_review_count),3)*100}%', f'Negative = {round(negative_review_count/(positive_review_count + negative_review_count),3)*100}%'\n",
    "sizes = [positive_review_count, negative_review_count]\n",
    "fig, ax = plt.subplots()\n",
    "ax.pie(sizes, labels=labels)"
   ]
  },
  {
   "cell_type": "code",
   "execution_count": 30,
   "id": "70aa4f69",
   "metadata": {},
   "outputs": [],
   "source": [
    "selected_review['cleaned_review'] = selected_review['review_text'].apply(clean_text)\n",
    "selected_review['review_score_cleaned'] = selected_review['review_score'].apply(negative_to_0)\n",
    "X_qea = selected_review['cleaned_review']\n",
    "y_qea = selected_review['review_score_cleaned']"
   ]
  },
  {
   "cell_type": "code",
   "execution_count": 36,
   "id": "feb30a3f",
   "metadata": {},
   "outputs": [
    {
     "name": "stdout",
     "output_type": "stream",
     "text": [
      "0                     valve pls whyspookyme cant handel\n",
      "1                                                      \n",
      "2     play rainbow seige waited minute search teamma...\n",
      "3     great game run sec make computer crash great p...\n",
      "4     scratch freelancer itch im trading upgrading d...\n",
      "5      game way goat simply handle great goat therefore\n",
      "6     let see person life lie im youre looking let s...\n",
      "7     log day ive bought game called city skyline do...\n",
      "8                                   make really hate ea\n",
      "9                  play city skyline dont computer suck\n",
      "10                           game beat simcity triilion\n",
      "11    makoto superior waifu though cook smart well l...\n",
      "12        day one japan already pssed toilet never hold\n",
      "13    need level use basic ing unit like mortardid b...\n",
      "14    downoad mod destroy game download mod face con...\n",
      "15                                        mother russia\n",
      "16                                          ruined life\n",
      "17    okay one serious review youre probably wonderi...\n",
      "18                                           killed fly\n",
      "19    yet another great game ruined community people...\n",
      "20                                          ing cod rip\n",
      "21    probably black sheep postal series peice crap ...\n",
      "22                                              h h h h\n",
      "Name: cleaned_review, dtype: object\n"
     ]
    }
   ],
   "source": [
    "print(X_qea)"
   ]
  },
  {
   "cell_type": "code",
   "execution_count": 31,
   "id": "bc1a464a",
   "metadata": {},
   "outputs": [],
   "source": [
    "# tfidf\n",
    "X_qea_tfidf  = tfidf.transform(X_qea)\n",
    "y_qea_pred_tfidf = nb_classifier_tfidf.predict(X_qea_tfidf)"
   ]
  },
  {
   "cell_type": "code",
   "execution_count": 32,
   "id": "89a3cc18",
   "metadata": {},
   "outputs": [],
   "source": [
    "# w2v\n",
    "X_qea_tokens = [word_tokenize(review) for review in X_qea]\n",
    "X_qea_w2v = np.array([vectorize_document(doc, w2v_model) for doc in X_qea_tokens])\n",
    "y_qea_pred_w2v = lr_classifier_w2v.predict(X_qea_w2v)"
   ]
  },
  {
   "cell_type": "code",
   "execution_count": 33,
   "id": "b13d8087",
   "metadata": {},
   "outputs": [],
   "source": [
    "# bow\n",
    "X_qea_bow = bow_vectorizer.transform(X_qea)\n",
    "y_qea_pred_bow = nb_classifier_bow.predict(X_qea_bow)"
   ]
  },
  {
   "cell_type": "code",
   "execution_count": 35,
   "id": "8ed2a3c6",
   "metadata": {},
   "outputs": [
    {
     "name": "stdout",
     "output_type": "stream",
     "text": [
      "Review                                                        True Sentiment    BoW Prediction    TF-IDF Prediction    W2V Prediction\n",
      "------------------------------------------------------------  ----------------  ----------------  -------------------  ----------------\n",
      "valve pls why...3spooky5me cant handel                        Negative          ✅                ✅                   ✅\n",
      "\n",
      "https://www.youtube.com/watch?v=VgAZhIoNLjE                   Positive          ❌                ❌                   ❌\n",
      "\n",
      "-Be me -Play Rainbow 6 seige -Waited for 3 minutes to s...    Negative          ✅                ✅                   ✅\n",
      "\n",
      "Great game had to run it 30 sec and it did make my comput...  Negative          ✅                ✅                   ❌\n",
      "\n",
      "Scratches the freelancer itch - I'm trading, upgrading, a...  Positive          ✅                ✅                   ✅\n",
      "\n",
      "This game is way too goat for me. I simply cannot handle ...  Negative          ❌                ❌                   ❌\n",
      "\n",
      "Let me out, what you see is not the same person as me My ...  Negative          ❌                ❌                   ❌\n",
      "\n",
      "Log: day 1:  I've bought a game called Cities: Skylines. ...  Positive          ✅                ✅                   ✅\n",
      "\n",
      "Makes you really hate EA                                      Positive          ❌                ❌                   ❌\n",
      "\n",
      "How to play Cities: Skylines:  YOU DON'T.  10/10 my compu...  Positive          ❌                ❌                   ✅\n",
      "\n",
      "This game beats simcity 5 By 1600000000000000000000000000...  Positive          ✅                ✅                   ✅\n",
      "\n",
      "MAKOTO IS SUPERIOR WAIFU, THOUGH SHE CANNOT COOK, SHE HAS...  Positive          ✅                ✅                   ✅\n",
      "\n",
      "Day one of Japan and already I have been p!ssed on by a t...  Positive          ✅                ✅                   ✅\n",
      "\n",
      "No. You need to level up to use basic ♥♥♥♥ing units like ...  Negative          ✅                ✅                   ❌\n",
      "\n",
      "do not down;oad mods it will destroy your game download m...  Negative          ❌                ❌                   ❌\n",
      "\n",
      "for mother russia                                             Positive          ✅                ✅                   ✅\n",
      "\n",
      "Ruined my life.                                               Positive          ❌                ❌                   ❌\n",
      "\n",
      "Okay, one of my serious reviews, but you're probably wond...  Positive          ✅                ✅                   ✅\n",
      "\n",
      "Killed by a fly    10/10                                      Positive          ❌                ✅                   ✅\n",
      "\n",
      "Yet another great game ruined by its community. 4/5 peopl...  Negative          ✅                ✅                   ✅\n",
      "\n",
      "♥♥♥♥ing cod rip off                                           Negative          ✅                ✅                   ✅\n",
      "\n",
      "Probably the black sheep of the postal series, this peice...  Negative          ✅                ✅                   ✅\n",
      "\n",
      "♥♥♥♥ S H I T S H I T S H I T S H I T                          Negative          ✅                ✅                   ❌\n",
      "\n"
     ]
    }
   ],
   "source": [
    "headers = [\"Review\",\"True Sentiment\", \"BoW Prediction\", \"TF-IDF Prediction\",\"W2V Prediction\"]\n",
    "data = []\n",
    "for i in range(len(review_text_col)):\n",
    "    temp = []\n",
    "    temp.append(review_text_col[i] if len(review_text_col[i]) < 60 else review_text_col[i][:57]+\"...\")\n",
    "    temp.append(\"Positive\" if y_qea[i] == 1 else \"Negative\")\n",
    "    temp.append(\"✅\" if y_qea_pred_bow[i] == y_qea[i] else \"❌\")\n",
    "    temp.append(\"✅\" if y_qea_pred_tfidf[i] == y_qea[i] else \"❌\")\n",
    "    temp.append(\"✅\" if y_qea_pred_w2v[i] == y_qea[i] else \"❌\")\n",
    "    data.append(temp)\n",
    "    # Add an empty row for spacing\n",
    "    data.append([\"\" for _ in headers])\n",
    "print(tabulate(data, headers=headers))"
   ]
  },
  {
   "cell_type": "markdown",
   "id": "ea85b5b5",
   "metadata": {},
   "source": [
    "---"
   ]
  },
  {
   "cell_type": "markdown",
   "id": "4d27f6c9",
   "metadata": {},
   "source": [
    "---\n",
    "\n",
    "# CONCLUSION\n",
    "\n",
    "---"
   ]
  },
  {
   "cell_type": "markdown",
   "id": "16216d30",
   "metadata": {},
   "source": [
    "---\n",
    "\n",
    "9. PERFORMANCE ANALYSIS AND COMPARATIVE DISCUSSION (487 words)\n",
    "\n",
    "The performance of the three models (Bag-of-Words, TF-IDF, and Word2Vec) was evaluated to compare the effectiveness of traditional statistical methods against modern embedding-based approaches. While the BoW model achieved a high overall accuracy (82.1%), a deeper analysis of the other aspects reveals that this was largely a result of its bias due to the imbalanced dataset (Positive = 82.3%, Negative = 17.7%).Therefore, the lesser variety in the negative examples available for BoW to learn from. The TF-IDF and Word2Vec models, despite lower accuracy scores (~72%), showcased a far superior and more practical ability to identify the Negative class.\n",
    "\n",
    "The key lies in the models' recall for negative reviews. In the confusion matrices, the TF-IDF and Word2Vec models correctly identified 86% of all negative reviews, a significant improvement over the BoW model's 67%. This indicates that while the BoW model's precision was higher, it failed to find a substantial portion of negative reviews, making it unreliable for practical applications like identifying customer complaints. THus, the TF-IDF and Word2Vec models, proved far more effective at this task, albeit at the cost of lower precision.\n",
    "\n",
    "Despite with Word2Vec's marginal advantage (Macro F1-Score of 0.669 vs. 0.666), the distinction is shown in the qualitative error analysis. The Word2Vec model showcased a strength in handling complex context and sarcasm where no explicit positive keywords were present. For example, it correctly classified the review \"How to play Cities: Skylines: YOU DON'T...\" as positive, while both statistical models failed. This suggests Word2Vec learned the positive semantic pattern associated with this type of humor, an advantage derived from its prediction-based embeddings. Similarly, the BoW model saw \"killed\" in \"Killed by a fly 10/10\" and failed but the TF-IDF and Word2Vec succeeded. This suggests that  the word \"fly\" (one of the enemy from \"The Binding of Isaac\") appeared so overwhelmingly in positive reviews that its positive signal outweighed the negative signal of \"killed\". The TF-IDF model might have learned this through statistical co-occurrence, and the Word2Vec model might have learned this through semantic proximity. This are exampls showing TF-IDF and W2V understanding \"contexts\".\n",
    "\n",
    "However, the analysis also revealed scenarios where the embedding-based approach has disadvantages. In the review \"Great game had to run it 30 sec and it did make my computer crash,...\" both BoW and TF-IDF correctly identified the negative sentiment, likely due to the strong signal from the keyword 'crash'. Word2Vec failed, indicating that averaging semantic vectors may sometimes weaken the impact of a decisive negative term when mixed with a positive phrase like \"great game.\"\n",
    "\n",
    "In conclusion, the simple count-based BoW model serves as a weak baseline. The TF-IDF model offers an improvement by weighting terms effectively. The Word2Vec model, while not overwhelmingly better, proves its unique advantage in understanding \"sarcasm\" and \"topic-specific\" terms, making it the preferred choice where a deep understanding of context is required. For tasks where identifying specific high-impact keywords is sufficient, the computationally cheaper TF-IDF model remains a viable choice.\n",
    "\n",
    "---"
   ]
  },
  {
   "cell_type": "markdown",
   "id": "4f4572de",
   "metadata": {},
   "source": [
    "---\n",
    "\n",
    "10. Project Summary and Reflections (453 words)\n",
    "\n",
    "This project's goal is to perform comparative study of the three NLP models (Bag-of-Words, TF-IDF, and Word2Vec) for the task of sentiment classification on a large dataset of Steam game reviews. The primary contribution was the practical demonstration of these techniques in a domain known for informal language, sarcasm, and \"noises\" from virtual expressions. The results confirmed that while traditional statistical models like TF-IDF and BoW are still highly effective, the semantic representations of Word2Vec offer a distinct advantage in interpreting contextual language, even if its average performance was not dramatically superior in this specific implementation. However, that said, the performance difference between the models would have been more significant if this project is not held back by the device's computational prowess (The models are trained with 1 million data entries instead of the entire dataset, 6.4 million entries).\n",
    "\n",
    "The first key learning experience was this project underscored the importance of data preprocessing and exploration. The discovery of the dataset's class imbalance and how \"noises\" used in reviews, necessitate the use of oversampling on the training data and clean all form of \"noises\" respectively to enable a meaningful comparison. Without this step, the performance of the models would have been unfair, for example, W2V may use the \"rating numbers\" as a crutch to cheat and understand the semantic of the review. Secondly, the limitations of quantitative metrics. While F1-scores provided a general measure of performance, the qualitative error analysis was helpful for understanding why models failed, revealing their respective weaknesses in handling complex human language nuances.\n",
    "\n",
    "From a practical standpoint, each model type has distinct applications. The TF-IDF model, computationally efficient and highly effective at keyword-based tasks, is well-suited for scenarios requiring fast, large-scale document categorisation or information retrieval. The Word2Vec model, while more computationally intensive to train, is more applicable to scenarios where understanding user intent and semantic meaning is crucial, such as chatbot development.\n",
    "\n",
    "The solution developed here is highly transferable to other domains involving user-generated text, such as product reviews, social media comments, or support ticket analysis, as they share similar challenges of informal language and data imbalance.\n",
    "\n",
    "Future research could further extend this work. To improve performance, one could implement contextualized models like BERT, which might better resolve the sarcastic and contradictory language identified in the error analysis. Another improvement would be to incorporate genre and \"noises\" in reviews as features, allowing the model to learn context-specific sentiment (e.g., that 'grind' may be positive in an RPG but negative in another genre, and how some ASCII art in reviews may correlate to positive reviews). Finally, to improve my method of training NLP models as with my current method, I am unable to utilise the entire Steam review dataset and more.\n",
    "\n",
    "---"
   ]
  }
 ],
 "metadata": {
  "kernelspec": {
   "display_name": ".venv",
   "language": "python",
   "name": "python3"
  },
  "language_info": {
   "codemirror_mode": {
    "name": "ipython",
    "version": 3
   },
   "file_extension": ".py",
   "mimetype": "text/x-python",
   "name": "python",
   "nbconvert_exporter": "python",
   "pygments_lexer": "ipython3",
   "version": "3.10.0"
  }
 },
 "nbformat": 4,
 "nbformat_minor": 5
}
